{
 "cells": [
  {
   "cell_type": "code",
   "execution_count": null,
   "metadata": {},
   "outputs": [],
   "source": [
    "### Running questions\n",
    "### Note: I will clean up stuff for sure (moving lines to functions, etc), this is more about logic "
   ]
  },
  {
   "cell_type": "code",
   "execution_count": null,
   "metadata": {},
   "outputs": [],
   "source": [
    "import cyvcf2\n",
    "from pyfaidx import Fasta\n",
    "import os\n",
    "import argparse"
   ]
  },
  {
   "cell_type": "code",
   "execution_count": null,
   "metadata": {},
   "outputs": [],
   "source": [
    "os.chdir('/Users/quinlan/u1264408/Git/spermseq')\n",
    "os.listdir()"
   ]
  },
  {
   "cell_type": "code",
   "execution_count": null,
   "metadata": {},
   "outputs": [],
   "source": [
    "A = '1SCS014.indels.vcf'\n",
    "Atrust = '1SCS014.trustworthyindels.vcf'\n",
    "B = 'K8J7003.indels.vcf'\n",
    "C = 'UA6U012.indels.vcf'\n",
    "D = 'YL99029.indels.vcf'\n",
    "E = 'XH9R013.indels.vcf'"
   ]
  },
  {
   "cell_type": "code",
   "execution_count": null,
   "metadata": {},
   "outputs": [],
   "source": [
    "genome = Fasta('/Users/quinlan/u1264408/human_g1k_v38_decoy_phix.fasta', as_raw=True) # look into as_RAW\n",
    "# as_raw: optional parameter to specify whether to return sequences as a Sequence() object or as a raw string.\n",
    "from cyvcf2 import VCF"
   ]
  },
  {
   "cell_type": "code",
   "execution_count": null,
   "metadata": {},
   "outputs": [],
   "source": [
    "### Touching 5\n",
    "\n",
    "vcf = VCF(Atrust)\n",
    "\n",
    "failcount = 0\n",
    "passcount = 0 \n",
    "\n",
    "for v in vcf():\n",
    "    valt = v.ALT[0]\n",
    "    vref = v.REF\n",
    "    if len(vref) > len(valt):\n",
    "        vdiff = vref.replace(valt, '', 1)\n",
    "    else: \n",
    "        vdiff = valt.replace(vref, '', 1)\n",
    "    if vdiff == len(vdiff) * vdiff[0]:\n",
    "        vdiff = vdiff[0]\n",
    "    else:\n",
    "        pass\n",
    "    ### find the ins/del string difference between the ref and alt alleles\n",
    "    \n",
    "    genome_seq_left = genome[v.CHROM][v.POS-4:v.POS]\n",
    "    genome_seq_right = genome[v.CHROM][v.POS:v.POS+4]\n",
    "\n",
    "    if (genome_seq_left == len(genome_seq_left) * genome_seq_left[0]):\n",
    "        genome_seq_left_use = genome_seq_left\n",
    "    else:\n",
    "        genome_seq_left_use = 'Left'\n",
    "   \n",
    "    if (genome_seq_right == len(genome_seq_right) * genome_seq_right[0]):\n",
    "        genome_seq_right_use = genome_seq_right\n",
    "    else:\n",
    "        genome_seq_right_use = 'Right'\n",
    "\n",
    "    ### ensure left and right flanks are homopolymers for failing \n",
    "    \n",
    "    #print(genome_seq_left, genome_seq_right) \n",
    "    if 'N' in v.ALT[0]:\n",
    "        #print('FAIL ', v.ALT[0])\n",
    "        failcount += 1 \n",
    "    elif vdiff  in genome_seq_left_use:\n",
    "        #print( v.CHROM, v.POS, v.REF, v.ALT[0])            \n",
    "        failcount += 1\n",
    "        #print('vdiff in left')\n",
    "    elif vdiff in genome_seq_right_use: \n",
    "        #print( v.CHROM, v.POS, v.REF, v.ALT[0])\n",
    "        failcount += 1\n",
    "        #print('vdiff in right')\n",
    "    else:\n",
    "        #print( v.CHROM, v.POS, v.REF, v.ALT[0])\n",
    "        passcount += 1\n",
    "        #print('PASS')\n",
    "print(v.INFO.get('donor') + \":\", 'Passcount is', passcount, 'and failcount is', failcount) \n",
    "\n",
    " "
   ]
  }
 ],
 "metadata": {
  "interpreter": {
   "hash": "31f2aee4e71d21fbe5cf8b01ff0e069b9275f58929596ceb00d14d90e3e16cd6"
  },
  "kernelspec": {
   "display_name": "Python 3.8.9 64-bit",
   "language": "python",
   "name": "python3"
  },
  "language_info": {
   "codemirror_mode": {
    "name": "ipython",
    "version": 3
   },
   "file_extension": ".py",
   "mimetype": "text/x-python",
   "name": "python",
   "nbconvert_exporter": "python",
   "pygments_lexer": "ipython3",
   "version": "3.9.10"
  },
  "orig_nbformat": 4
 },
 "nbformat": 4,
 "nbformat_minor": 2
}
