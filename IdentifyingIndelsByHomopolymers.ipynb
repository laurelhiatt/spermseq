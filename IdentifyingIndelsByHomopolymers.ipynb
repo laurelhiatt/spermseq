{
 "cells": [
  {
   "cell_type": "code",
   "execution_count": null,
   "metadata": {},
   "outputs": [],
   "source": [
    "### Running questions\n",
    "### How to handle Ns?\n",
    "### Should I remove reference from alternate the same way I remove alternate from the reference? \n",
    "### Find longest string rather than checking entire stretch and neighbors to see if they're homopolymers? \n",
    "\n",
    "### Note: I will clean up stuff for sure (moving lines to functions, etc), this is more about logic "
   ]
  },
  {
   "cell_type": "code",
   "execution_count": 1,
   "metadata": {},
   "outputs": [],
   "source": [
    "import cyvcf2\n",
    "from pyfaidx import Fasta\n",
    "import os\n",
    "import argparse"
   ]
  },
  {
   "cell_type": "code",
   "execution_count": 2,
   "metadata": {},
   "outputs": [
    {
     "data": {
      "text/plain": [
       "['20_shared_rare_1SCS014.vcf',\n",
       " '1SCS014.indels_removed_homopolymer.vcf',\n",
       " 'YL99029.indels.vcf',\n",
       " 'GRCh38_simplerepeats_1-6_homopolymers_1bpslop.bed',\n",
       " 'XH9R013.indels.vcf',\n",
       " '1SCS014.reliable_indels.vcf',\n",
       " 'sites_in_more_than_5_cut.bed',\n",
       " 'GRCh38_simplerepeats_1-6_homopolymers.bed',\n",
       " '.git',\n",
       " 'XH9R013.reliable_indels_any_overlap.vcf',\n",
       " 'UA6U012.reliable_indels.vcf',\n",
       " 'XH9R013.reliable_indels.vcf',\n",
       " 'GRCh38_simplerepeats_1-6_homopolymers_5bpslop.bed',\n",
       " '1SCS014.indels.vcf',\n",
       " '1SCS014.bedtools.save',\n",
       " 'K8J7003.indels.vcf',\n",
       " 'GRCh38_simplerepeats_1-6_homopolymers_2bpslop.bed',\n",
       " 'K8J7003.reliable_indels_any_overlap.vcf',\n",
       " 'K8J7003.reliable_indels.vcf',\n",
       " 'YL99029.reliable_indels.vcf',\n",
       " 'YL99029.reliable_indels_any_overlap.vcf',\n",
       " '1SCS014.trustworthyindels.vcf',\n",
       " 'UA6U012.reliable_indels_any_overlap.vcf',\n",
       " 'sites_in_more_than_5.bed',\n",
       " 'shared_blood_sperm_mutation_analysis.bed',\n",
       " '1SCS014.reliable_indels_any_overlap.vcf',\n",
       " 'UA6U012.indels.vcf']"
      ]
     },
     "execution_count": 2,
     "metadata": {},
     "output_type": "execute_result"
    }
   ],
   "source": [
    "os.chdir('/Users/quinlan/u1264408/Git/spermseq')\n",
    "os.listdir()"
   ]
  },
  {
   "cell_type": "code",
   "execution_count": null,
   "metadata": {},
   "outputs": [],
   "source": [
    "A = '1SCS014.indels.vcf'\n",
    "B = 'K8J7003.indels.vcf'\n",
    "C = 'UA6U012.indels.vcf'\n",
    "D = 'YL99029.indels.vcf'\n",
    "E = 'XH9R013.indels.vcf'"
   ]
  },
  {
   "cell_type": "code",
   "execution_count": 3,
   "metadata": {},
   "outputs": [],
   "source": [
    "genome = Fasta('/Users/quinlan/u1264408/human_g1k_v38_decoy_phix.fasta', as_raw=True) # look into as_RAW\n",
    "# as_raw: optional parameter to specify whether to return sequences as a Sequence() object or as a raw string.\n",
    "from cyvcf2 import VCF"
   ]
  },
  {
   "cell_type": "code",
   "execution_count": 4,
   "metadata": {},
   "outputs": [
    {
     "name": "stderr",
     "output_type": "stream",
     "text": [
      "[W::vcf_parse] Contig 'chr1' is not defined in the header. (Quick workaround: index the file with tabix.)\n",
      "[W::vcf_parse] FILTER '-' is not defined in the header\n",
      "[W::vcf_parse] INFO 'donor' is not defined in the header, assuming Type=String\n",
      "[W::vcf_parse] INFO 'variation_type' is not defined in the header, assuming Type=String\n",
      "[W::vcf_parse] INFO 'subtype' is not defined in the header, assuming Type=String\n",
      "[W::vcf_parse_format] FORMAT 'filter' is not defined in the header, assuming Type=String\n",
      "[W::vcf_parse_format] FORMAT 'sample' is not defined in the header, assuming Type=String\n",
      "[W::vcf_parse_format] FORMAT 'AF' is not defined in the header, assuming Type=String\n",
      "[W::vcf_parse_format] FORMAT 'alt_depth' is not defined in the header, assuming Type=String\n",
      "[W::vcf_parse_format] FORMAT 'depth' is not defined in the header, assuming Type=String\n",
      "[W::vcf_parse_format] FORMAT 'no_calls' is not defined in the header, assuming Type=String\n",
      "[W::vcf_parse_format] FORMAT 'tissue' is not defined in the header, assuming Type=String\n",
      "[W::vcf_parse_format] FORMAT 'context' is not defined in the header, assuming Type=String\n",
      "[W::vcf_parse_format] FORMAT 'qual' is not defined in the header, assuming Type=String\n",
      "[W::vcf_parse_format] FORMAT 'age' is not defined in the header, assuming Type=String\n",
      "[W::vcf_parse] Contig 'chr2' is not defined in the header. (Quick workaround: index the file with tabix.)\n"
     ]
    },
    {
     "name": "stdout",
     "output_type": "stream",
     "text": [
      "FAIL  chr1 75806922 T TA\n",
      "TTAA\n",
      "FAIL  chr2 39007201 T TA\n",
      "ATAA\n",
      "FAIL  chr2 39035331 AT A\n",
      "AT\n",
      "FAIL  chr2 47414420 TAAA T\n",
      "TA\n",
      "FAIL  chr2 47414420 TAA T\n",
      "TA\n",
      "FAIL  chr2 47474913 T TAGG\n",
      "AATTAGGA\n",
      "FAIL  chr2 47804889 CT C\n",
      "CT\n",
      "FAIL  chr2 189852791 GA G\n",
      "GA\n",
      "FAIL  chr2 189863889 TA T\n",
      "TA\n",
      "FAIL  chr3 12609348 TA T\n",
      "TA\n",
      "FAIL  chr4 54731256 T TAG\n",
      "GGTAGA\n",
      "FAIL  chr5 80675095 C CA\n",
      "ACAA\n"
     ]
    },
    {
     "name": "stderr",
     "output_type": "stream",
     "text": [
      "[W::vcf_parse] Contig 'chr3' is not defined in the header. (Quick workaround: index the file with tabix.)\n",
      "[W::vcf_parse] Contig 'chr4' is not defined in the header. (Quick workaround: index the file with tabix.)\n",
      "[W::vcf_parse] Contig 'chr5' is not defined in the header. (Quick workaround: index the file with tabix.)\n"
     ]
    },
    {
     "name": "stdout",
     "output_type": "stream",
     "text": [
      "FAIL  chr5 112839514 TAAAAG T\n",
      "TA\n",
      "FAIL  chr5 112840921 TA T\n",
      "TA\n",
      "FAIL  chr5 112841744 GA G\n",
      "GA\n",
      "FAIL  chr5 112842691 A ATACATCTCCAGGTAGACAGATGAGCCAACAGAACCTTACCAAACAAACAGGTTTATCCAAGAATGCCAGTAGTATTCCAAGAAGTGAGTCTGCCTCCAAAGGACTAAATCAGATGAATAATGGTAATGGAGCCAATAAAAAGGTAGAACTTTCTAGAATGTCTTCAACTAAATCAAGTGGAAGTGAATCTGATAGATCAGAAAGACCTGTATTAGTACGCCAGTCAACTTTCATCAAAGAAGCTCCAAGCCCAACCTTAAGAAGAAAATTGGAGGAATCTGCTTCATTTGAATCTCTTTCTCCATCATCTAGACCAGCTTCTCCCACTAGGTCCCAGGCACAAACTCCAGTTTTAAG\n",
      "CTAAAAAAGGCCCACCCCTTAAGACTCCAGCCTCCAAAAGCCCTAGTGAAGGTCAAACAGCCACCACTTCTCCTAGAGGAGCCAAGCCATCTGTGAAATCAGAATTAAGCCCTGTTGCCAGGCAGACATCCCAAATAGGTGGGTCAAGTAAAGCACCTTCTAGATCAGGATCTAGAGATTCGACCCCTTCAAGACCTGCCCAGCAACCATTAAGTAGACCTATACAGTCTCCTGGCCGAAACTCAATTTCCCCTGGTAGAAATGGAATAAGTCCTCCTAACAAATTATCTCAACTTCCAAGGACATCATCCCCTAGTACTGCTTCAACTAAGTCCTCAGGTTCTGGAAAAATGTCATATACATCTCCAGGTAGACAGATGAGCCAACAGAACCTTACCAAACAAACAGGTTTATCCAAGAATGCCAGTAGTATTCCAAGAAGTGAGTCTGCCTCCAAAGGACTAAATCAGATGAATAATGGTAATGGAGCCAATAAAAAGGTAGAACTTTCTAGAATGTCTTCAACTAAATCAAGTGGAAGTGAATCTGATAGATCAGAAAGACCTGTATTAGTACGCCAGTCAACTTTCATCAAAGAAGCTCCAAGCCCAACCTTAAGAAGAAAATTGGAGGAATCTGCTTCATTTGAATCTCTTTCTCCATCATCTAGACCAGCTTCTCCCACTAGGTCCCAGGCACAAACTCCAGTTTTAAGT\n",
      "FAIL  chr6 151808193 TG T\n",
      "TG\n",
      "FAIL  chr6 151842588 TC T\n",
      "TC\n",
      "FAIL  chr7 5992106 GC G\n",
      "GC\n"
     ]
    },
    {
     "name": "stderr",
     "output_type": "stream",
     "text": [
      "[W::vcf_parse] Contig 'chr6' is not defined in the header. (Quick workaround: index the file with tabix.)\n",
      "[W::vcf_parse] Contig 'chr7' is not defined in the header. (Quick workaround: index the file with tabix.)\n"
     ]
    },
    {
     "name": "stdout",
     "output_type": "stream",
     "text": [
      "FAIL  chr7 5997264 TA T\n",
      "TA\n",
      "FAIL  chr7 140734774 CA C\n",
      "CA\n",
      "FAIL  chr7 140734774 C CA\n",
      "ACAA\n",
      "FAIL  chr7 140783126 AG A\n",
      "AG\n",
      "FAIL  chr8 30847884 TATA T\n",
      "TA\n"
     ]
    },
    {
     "name": "stderr",
     "output_type": "stream",
     "text": [
      "[W::vcf_parse] Contig 'chr8' is not defined in the header. (Quick workaround: index the file with tabix.)\n",
      "[W::vcf_parse] Contig 'chr9' is not defined in the header. (Quick workaround: index the file with tabix.)\n",
      "[W::vcf_parse] Contig 'chr11' is not defined in the header. (Quick workaround: index the file with tabix.)\n"
     ]
    },
    {
     "name": "stdout",
     "output_type": "stream",
     "text": [
      "FAIL  chr8 30860059 T TA\n",
      "CTAA\n",
      "FAIL  chr9 124482702 G GC\n",
      "CGCC\n",
      "FAIL  chr11 94486159 T TA\n",
      "ATAA\n",
      "FAIL  chr11 108227582 A AT\n",
      "TATT\n",
      "FAIL  chr11 108227582 AT A\n",
      "AT\n",
      "FAIL  chr11 108325249 GT G\n",
      "GT\n",
      "FAIL  chr11 108326230 G GT\n",
      "TGTT\n",
      "FAIL  chr11 116835717 AC A\n",
      "AC\n",
      "FAIL  chr11 119206522 GCAC G\n",
      "GC\n",
      "FAIL  chr12 101729122 AT A\n",
      "AT\n",
      "FAIL  chr12 101734904 T TA\n",
      "CTAA\n",
      "FAIL  chr12 130345784 AT A\n",
      "AT\n",
      "FAIL  chr12 130346594 GA G\n",
      "GA\n",
      "FAIL  chr12 130354608 TG T\n",
      "TG\n"
     ]
    },
    {
     "name": "stderr",
     "output_type": "stream",
     "text": [
      "[W::vcf_parse] Contig 'chr12' is not defined in the header. (Quick workaround: index the file with tabix.)\n"
     ]
    },
    {
     "name": "stdout",
     "output_type": "stream",
     "text": [
      "FAIL  chr12 132659279 TG T\n",
      "TG\n",
      "FAIL  chr13 32339699 CA C\n",
      "CA\n",
      "FAIL  chr13 32356498 C CGTCTTTCCACAGCCAGGCAGTCTGTATCTTGCAAAAACATCCACTCTGCCTCGAATCTCTCTGAAAGCAGCAGTAGGAGGCCAAGTTCCCTCTGCGTGTTCTCATAAACAGGTATGTGTTTGTCTACAATACTGATGGCTTTTATGACAGAGTGTAATTTTATTTCATTAACTAGTATCTACAAATGGCTTTGTTTAAAGAATGAACACATTAGTGCAGGAATGGATGAATGAAATCATCATATTTTCTAATTAGCCTGCAGTGGCAGCCTCTGGCCCCTTGCTAGGCCTGCCTCATCCTGCTAAAGTGATCTGTGCTTCCAAATTACTACTTCTTTTCCCCCTTCAAATCTTTCTTATTTTGTCATTGTAAATGCTCTCAGCTAGGTGTTAAAGTAGTCTTACTGATATTCAAATGTGAATAACTGATAGCCCTGAACCTTCTATGAGCTATTTATATTTTCCAAAGAGGATTCTCCTTAAGCCAATATTATCTAGGTAGAATTTTAGGCAATGGAGAGGTGAAAATAATATTGATGACATTAATAGCTAACTTTGAGCATTTTCTAG\n",
      "CAAGTTGAAACATCCTTTCATTTATGAAGAATTAAAAGGGGTACCCTTTTTAGAGAAAAGGAGAGCATGTAAACTTCGAGGAAATTGATATGTATAATTTTATAAAACAGGGCTTGCGCTTTTTTTTTTTTGAGACAGAGTTTCGCTCTTGTTGCCCAGGCTGGAGTGCAATGGTGCAACCTCGGCTCACCGCAACCTCCTCCTCCCGAGTTCAAGTGATTCTCCTGCCTCAGCCTGCTGAATAGCTGGGATTACAGGCATGTGCCACCACACCTGGCTACTTTTGTGTTTTTTTTACTTTTATATATTTTTTTTTTGTTTAGTAGAGACAGGGTTTCTCCATTTTGGTCAGGCTGGTCTTGAACTCCCGACCTCAGATGATCTGCCCGCCTCAGCCTCCCAAAGTGCTGGGATTACAGGCGTGAGCCACTGTGCCTGGCCAGGGGTTGTGCTTTTTAAATTTCAATTTTATTTTTGCTAAGTATTTATTCTTTGATAGATTTAATTACAAGTCTTCAGAATGCCAGAGATATACAGGATATGCGAATTAAGAAGAAACAAAGGCAACGCGTCTTTCCACAGCCAGGCAGTCTGTATCTTGCAAAAACATCCACTCTGCCTCGAATCTCTCTGAAAGCAGCAGTAGGAGGCCAAGTTCCCTCTGCGTGTTCTCATAAACAGGTATGTGTTTGTCTACAATACTGATGGCTTTTATGACAGAGTGTAATTTTATTTCATTAACTAGTATCTACAAATGGCTTTGTTTAAAGAATGAACACATTAGTGCAGGAATGGATGAATGAAATCATCATATTTTCTAATTAGCCTGCAGTGGCAGCCTCTGGCCCCTTGCTAGGCCTGCCTCATCCTGCTAAAGTGATCTGTGCTTCCAAATTACTACTTCTTTTCCCCCTTCAAATCTTTCTTATTTTGTCATTGTAAATGCTCTCAGCTAGGTGTTAAAGTAGTCTTACTGATATTCAAATGTGAATAACTGATAGCCCTGAACCTTCTATGAGCTATTTATATTTTCCAAAGAGGATTCTCCTTAAGCCAATATTATCTAGGTAGAATTTTAGGCAATGGAGAGGTGAAAATAATATTGATGACATTAATAGCTAACTTTGAGCATTTTCTAGG\n",
      "FAIL  chr14 45159080 TTA T\n",
      "TT\n",
      "FAIL  chr14 75047900 C CT\n",
      "TCTT\n",
      "FAIL  chr14 95132538 CT C\n",
      "CT\n"
     ]
    },
    {
     "name": "stderr",
     "output_type": "stream",
     "text": [
      "[W::vcf_parse] Contig 'chr13' is not defined in the header. (Quick workaround: index the file with tabix.)\n",
      "[W::vcf_parse] Contig 'chr14' is not defined in the header. (Quick workaround: index the file with tabix.)\n"
     ]
    },
    {
     "name": "stdout",
     "output_type": "stream",
     "text": [
      "FAIL  chr14 103966662 CT C\n",
      "CT\n",
      "FAIL  chr15 89307731 A AG\n",
      "CAGG\n",
      "FAIL  chr16 89795865 CA C\n",
      "CA\n",
      "FAIL  chr17 43093569 CT C\n",
      "CT\n",
      "FAIL  chr19 1220729 G GC\n",
      "CGCC\n"
     ]
    },
    {
     "name": "stderr",
     "output_type": "stream",
     "text": [
      "[W::vcf_parse] Contig 'chr15' is not defined in the header. (Quick workaround: index the file with tabix.)\n",
      "[W::vcf_parse] Contig 'chr16' is not defined in the header. (Quick workaround: index the file with tabix.)\n",
      "[W::vcf_parse] Contig 'chr17' is not defined in the header. (Quick workaround: index the file with tabix.)\n",
      "[W::vcf_parse] Contig 'chr19' is not defined in the header. (Quick workaround: index the file with tabix.)\n"
     ]
    },
    {
     "name": "stdout",
     "output_type": "stream",
     "text": [
      "FAIL  chr19 4097205 TA T\n",
      "TA\n",
      "FAIL  chr19 4110475 GCCCTGC G\n",
      "GC\n",
      "FAIL  chr19 4117638 AC A\n",
      "AC\n",
      "FAIL  chr19 14093595 AACCCTCAGCAGGCTTAAGGAGGGGAGGCCCACCTTCCTCTGGTAG A\n",
      "AA\n",
      "FAIL  chr19 50401797 TG T\n",
      "TG\n",
      "FAIL  chr19 50414747 TG T\n",
      "TG\n",
      "FAIL  chr19 50416412 TG T\n",
      "TG\n"
     ]
    },
    {
     "name": "stderr",
     "output_type": "stream",
     "text": [
      "[W::vcf_parse] Contig 'chr22' is not defined in the header. (Quick workaround: index the file with tabix.)\n",
      "[W::vcf_parse] Contig 'chrX' is not defined in the header. (Quick workaround: index the file with tabix.)\n",
      "[W::vcf_parse] Contig 'chrY' is not defined in the header. (Quick workaround: index the file with tabix.)\n"
     ]
    },
    {
     "name": "stdout",
     "output_type": "stream",
     "text": [
      "FAIL  chr22 41784278 GT G\n",
      "GT\n",
      "FAIL  chrX 133026979 A ATCTTCCCCAAATTCACTTTTAGGCTTCCAAATTGTGTTGAGTTTTTCCATGTTATCTTTCAGTTGATCTAAACAGTGAGCTAAAAACTCATGAGCATCGTTCTGTGCATTGCCATGGAATATCTCTGCAGCTGCTGAAATGGCCTTTTTAAGATTCAAGAGTAACATCTCCTTGATTTCTATATTATAGGTATCTTTAAAAAAAAGTAGCCGTGCCAAGCACATGGTAAGAGCATTAAGGGGAATTTTACCCCATGGGAAACTCTGATTAAGTAAATCATCAGCAAACGATGGGATTGAAAGTAGAGACTGTAACACTGCATTCATATAACAGGTGTTTCCCAAATTGGGGAGGCCGTGGCATATTTTCTCTGGAAATAATTCAAAAAATAGTTTTAATTTATCCCACTTTGTGTAACCGTCACTATACCCTTGTTGTAACAGAAATACCAAAACCATTTTCTCAGTGAGAGCTTGGAGAAGACCAATGTCATCTAGGTAAGGATTTCCAGTGGCGTTCATGATGCATGAAGATTCACATTCCAATTTCTTATTCTCTTCTAACTCTTTTAACTTCAATTGTTTCTCTCGATTATAGCTTACACACCTCGAACAATCTGCCTTGGATTTCTTGTATTCTACAGAATTATTTTCTTTCAAGAATTCCTCATTCATCTCTGAGCTAGATGAGAGCATTCTTTTCCTCTTCTTGTGCTGATTTTCTGATAACTCTCCGCAAGTAAG\n",
      "TCCAGATACGTCATTAAGTGAGCTAACGGTTCTTTTTCAATGAATGCTCGATCTCCTGAGTATACAGATTCTAGCTCATTTGGTTTAGAATTTTTTCCAAGGTACTTTTGCTGCTGTCTTCTGCTTGCCCCTTTAAAGACTGTCTGGCCTTTTTTTTGTTCAGACTCCTTATCTGATCCAATGTGTGGAGCCAGGATATCTTTGGATTCCTTTGTTGCAGGCCATGATACACTGATGTTTCCAGAAGTCATCTTTCGAATAACTTTTAATAATTGGAAATCTGTAATTTCTCCATCCTCACTCAAGGGAAGAGGTGGTCTGGTGCCTTCATTGCAATGAGAAGACACCTTTAAATATTTGGAAATGATGACTTCCTGGTCATTCTTCTTTAATGCACAAAACTCATTCAAGCTATAGCGTTTGAGGTGAACAATAAGGATTCTAGGTAGCCTACTGAATGAGTGCACTCCAACGGAAGTCTTGTGCTCACATTTTGCACATTTATACTCAAGCTCTTCTGCTCCAAAAAAAAGATCAAAAGTAGACTGAATAGATGAAGGATGTGCTTTTATTCTTTGGGGAAGGTTGATGGAGAGGTAATTATTCAGTTCTGTCTTGAGAATAACCTGACCACAAGCTTTACAAGCAATGGAGTGCAACAACTCTAACTCAAAATTAGTAATGACAGGGCAAGAAAACCCACTGGTGTCAGGATCATCAGCAAAAACCTGTTTAGGAAAATTATCTTCCCCAAATTCACTTTTAGGCTTCCAAATTGTGTTGAGTTTTTCCATGTTATCTTTCAGTTGATCTAAACAGTGAGCTAAAAACTCATGAGCATCGTTCTGTGCATTGCCATGGAATATCTCTGCAGCTGCTGAAATGGCCTTTTTAAGATTCAAGAGTAACATCTCCTTGATTTCTATATTATAGGTATCTTTAAAAAAAAGTAGCCGTGCCAAGCACATGGTAAGAGCATTAAGGGGAATTTTACCCCATGGGAAACTCTGATTAAGTAAATCATCAGCAAACGATGGGATTGAAAGTAGAGACTGTAACACTGCATTCATATAACAGGTGTTTCCCAAATTGGGGAGGCCGTGGCATATTTTCTCTGGAAATAATTCAAAAAATAGTTTTAATTTATCCCACTTTGTGTAACCGTCACTATACCCTTGTTGTAACAGAAATACCAAAACCATTTTCTCAGTGAGAGCTTGGAGAAGACCAATGTCATCTAGGTAAGGATTTCCAGTGGCGTTCATGATGCATGAAGATTCACATTCCAATTTCTTATTCTCTTCTAACTCTTTTAACTTCAATTGTTTCTCTCGATTATAGCTTACACACCTCGAACAATCTGCCTTGGATTTCTTGTATTCTACAGAATTATTTTCTTTCAAGAATTCCTCATTCATCTCTGAGCTAGATGAGAGCATTCTTTTCCTCTTCTTGTGCTGATTTTCTGATAACTCTCCGCAAGTAAGT\n",
      "FAIL  chrY 12840645 AG A\n",
      "AG\n",
      "FAIL  chrY 12846292 G GT\n",
      "AGTT\n",
      "FAIL  chrY 12856902 AT A\n",
      "AT\n",
      "1SCS014: Passcount is 0 and failcount is 61\n"
     ]
    }
   ],
   "source": [
    "### 1 \n",
    "### GOOD TO GO  \n",
    "### Simplest code: is alternate allele in reference genome sequence twice the length of max(reference allele, alternate allele)\n",
    "\n",
    "# vcf = cyvcf2.VCF(sys.argv[2])\n",
    "vcf = VCF('1SCS014.trustworthyindels.vcf')\n",
    "\n",
    "failcount = 0\n",
    "passcount = 0 \n",
    "\n",
    "for v in vcf():\n",
    "    #lenalt = max(len(v.ALT[0]), len(v.REF))\n",
    "    lenalt = len(v.ALT[0])\n",
    "    genome_seq_stretch = genome[v.CHROM][v.POS-lenalt:v.POS+lenalt]\n",
    "    if v.ALT[0] in genome_seq_stretch:\n",
    "        print('FAIL ', v.CHROM, v.POS, v.REF, v.ALT[0])\n",
    "        print(genome_seq_stretch)\n",
    "        failcount += 1 \n",
    "    else:\n",
    "        print('PASS', v.CHROM, v.POS, v.REF, v.ALT[0])\n",
    "        print(genome_seq_stretch)\n",
    "        passcount += 1\n",
    "print(v.INFO.get('donor') + \":\", 'Passcount is', passcount, 'and failcount is', failcount) "
   ]
  },
  {
   "cell_type": "code",
   "execution_count": null,
   "metadata": {},
   "outputs": [],
   "source": [
    "### 2\n",
    "###  GOOD TO GO (I THINK)\n",
    "### More complex: let's think about allele size between reference and alternate alleles \n",
    "## Insertions: alt allele > ref allele\n",
    "## Look for alt allele in reference genome \n",
    "## Deletions: ref allele > alt allele \n",
    "## Is alt allele contained within reference allele? Is the string difference in the left or right stretch?\n",
    "\n",
    "# vcf = cyvcf2.VCF(sys.argv[2])\n",
    "vcf = VCF('1SCS014.trustworthyindels.vcf')\n",
    "\n",
    "failcount = 0\n",
    "passcount = 0 \n",
    "\n",
    "for v in vcf():\n",
    "    lenalt = max(len(v.ALT[0]), len(v.REF))\n",
    "    genome_seq_left = genome[v.CHROM][v.POS-lenalt:v.POS]\n",
    "    genome_seq_right = genome[v.CHROM][v.POS:v.POS+lenalt]\n",
    "    genome_seq_stretch = genome[v.CHROM][v.POS-lenalt:v.POS+lenalt]\n",
    "    if len(v.ALT[0]) > len(v.REF) and v.ALT[0] in genome_seq_stretch:\n",
    "        #print('FAIL ', v.CHROM, v.POS, v.REF, v.ALT[0])\n",
    "        #print(genome_seq_left, genome_seq_right, genome_seq_stretch)\n",
    "        failcount += 1 \n",
    "    elif len(v.ALT[0]) < len(v.REF):\n",
    "        valt = v.ALT[0]\n",
    "        vref = v.REF\n",
    "        if valt in vref:\n",
    "            vref = vref.replace(valt, '', 1)\n",
    "            #only replace once \n",
    "            if vref in genome_seq_left or genome_seq_right:\n",
    "                #print('FAIL ', v.CHROM, v.POS, v.REF, v.ALT[0])\n",
    "                #print(genome_seq_left, genome_seq_right, genome_seq_stretch)\n",
    "                failcount += 1 \n",
    "            else: \n",
    "                #print('PASS ', v.CHROM, v.POS, v.REF, v.ALT[0])\n",
    "                #print(genome_seq_left, genome_seq_right, genome_seq_stretch)\n",
    "                passcount += 1\n",
    "        else:\n",
    "            #print('PASS ', v.CHROM, v.POS, v.REF, v.ALT[0])\n",
    "            #print(genome_seq_left, genome_seq_right, genome_seq_stretch)    \n",
    "            passcount += 1\n",
    "    else:\n",
    "        #print('PASS', v.CHROM, v.POS, v.REF, v.ALT[0])\n",
    "        #print(genome_seq_left, genome_seq_right, genome_seq_stretch)\n",
    "        passcount += 1\n",
    "print(v.INFO.get('donor') + \":\", 'Passcount is', passcount, 'and failcount is', failcount) \n",
    "   \n"
   ]
  },
  {
   "cell_type": "code",
   "execution_count": null,
   "metadata": {},
   "outputs": [],
   "source": [
    "### 3\n",
    "###  Probably good to go \n",
    "### Less strict: checks for larger alt alleles in genome stretch and only homopolymers fail with regards to reference allele in adjacent stretches\n",
    "vcf = VCF('1SCS014.trustworthyindels.vcf')\n",
    "\n",
    "failcount = 0\n",
    "passcount = 0 \n",
    "\n",
    "for v in vcf():\n",
    "    lenalt = max(len(v.ALT[0]), len(v.REF))\n",
    "    genome_seq_left = genome[v.CHROM][v.POS-lenalt:v.POS]\n",
    "\n",
    "    if (genome_seq_left == len(genome_seq_left) * genome_seq_left[0]):\n",
    "        genome_seq_left_use = genome_seq_left\n",
    "    else:\n",
    "        genome_seq_left_use = 'no_left'\n",
    "    genome_seq_right = genome[v.CHROM][v.POS:v.POS+lenalt]\n",
    "    if (genome_seq_right == len(genome_seq_right) * genome_seq_right[0]):\n",
    "        genome_seq_right_use = genome_seq_right\n",
    "    else:\n",
    "        genome_seq_right_use = 'no_right'\n",
    "    genome_seq_stretch = genome[v.CHROM][v.POS-lenalt:v.POS+lenalt]\n",
    "\n",
    "    if len(v.ALT[0]) > len(v.REF) and v.ALT[0] in genome_seq_stretch:\n",
    "        #print('FAIL in stretch', v.CHROM, v.POS, v.REF, v.ALT[0])\n",
    "        #print(genome_seq_left, genome_seq_right, genome_seq_stretch)\n",
    "        failcount += 1 \n",
    "    elif (len(v.ALT[0]) > len(v.REF)) and (v.ALT[0] not in genome_seq_stretch):\n",
    "        #print('PASS should not be in stretch', v.CHROM, v.POS, v.REF, v.ALT[0])\n",
    "        #print(genome_seq_left, genome_seq_right, genome_seq_stretch)\n",
    "        passcount += 1\n",
    "    elif len(v.ALT[0]) < len(v.REF):\n",
    "        valt = v.ALT[0]\n",
    "        vref = v.REF\n",
    "        if vref in valt:\n",
    "            vref = vref.replace(valt, '', 1)\n",
    "            if vref in genome_seq_left_use or genome_seq_right_use:\n",
    "                #print('FAIL right or left', v.CHROM, v.POS, v.REF, v.ALT[0])\n",
    "                #print(genome_seq_left, genome_seq_right, genome_seq_stretch)\n",
    "                failcount += 1 \n",
    "            else: \n",
    "                #print('PASS not in left or right', v.CHROM, v.POS, v.REF, v.ALT[0])\n",
    "                #print(genome_seq_left, genome_seq_right, genome_seq_stretch)\n",
    "                passcount += 1\n",
    "\n",
    "        else:\n",
    "            #print('PASS leftover', v.CHROM, v.POS, v.REF, v.ALT[0])\n",
    "            #print(genome_seq_left, genome_seq_right, genome_seq_stretch)    \n",
    "            passcount += 1\n",
    "    else:\n",
    "        #print('PASS leftover', v.CHROM, v.POS, v.REF, v.ALT[0])\n",
    "        #print(genome_seq_left, genome_seq_right, genome_seq_stretch)\n",
    "        passcount += 1\n",
    "print(v.INFO.get('donor') + \":\", 'Passcount is', passcount, 'and failcount is', failcount) \n",
    "   \n"
   ]
  },
  {
   "cell_type": "code",
   "execution_count": null,
   "metadata": {},
   "outputs": [],
   "source": [
    "### 4, fine but could be fiddled with \n",
    "### Least strict: only homopolymers fail with regards to reference allele in adjacent stretches AND alternate alleles in homopolymers\n",
    "vcf = VCF('1SCS014.trustworthyindels.vcf')\n",
    "\n",
    "failcount = 0\n",
    "passcount = 0 \n",
    "\n",
    "for v in vcf():\n",
    "    lenalt = max(len(v.ALT[0]), len(v.REF))\n",
    "    genome_seq_left = genome[v.CHROM][v.POS-lenalt:v.POS]\n",
    "    if (genome_seq_left == len(genome_seq_left) * genome_seq_left[0]):\n",
    "        genome_seq_left_use = genome_seq_left\n",
    "    else:\n",
    "        genome_seq_left_use = 'Left'\n",
    "    genome_seq_right = genome[v.CHROM][v.POS:v.POS+lenalt]\n",
    "    if (genome_seq_right == len(genome_seq_right) * genome_seq_right[0]):\n",
    "        genome_seq_right_use = genome_seq_right\n",
    "    else:\n",
    "        genome_seq_right_use = 'Right'\n",
    "    genome_seq_stretch = genome[v.CHROM][v.POS-lenalt:v.POS+lenalt]\n",
    "    if (genome_seq_stretch == len(genome_seq_stretch) * genome_seq_stretch[0]):\n",
    "        genome_seq_stretch_use = genome_seq_stretch\n",
    "    else:\n",
    "        genome_seq_stretch_use = 'Stretch'\n",
    "    valt = v.ALT[0]\n",
    "    vref = v.REF\n",
    "    if len(v.ALT[0]) < len(v.REF):\n",
    "        vref = vref.replace(valt, '', 1)\n",
    "    elif len(v.ALT[0]) > len(v.REF):\n",
    "        valt = valt.replace(vref, '', 1)\n",
    "    else:\n",
    "        pass\n",
    "\n",
    "    if len(v.ALT[0]) > len(v.REF) and valt in genome_seq_stretch_use:\n",
    "        #print('FAIL in stretch', v.CHROM, v.POS, v.REF, v.ALT[0])\n",
    "        #print(genome_seq_left, genome_seq_right, genome_seq_stretch)\n",
    "        failcount += 1 \n",
    "    elif (len(v.ALT[0]) > len(v.REF)) and (valt not in genome_seq_stretch_use):\n",
    "        #print('PASS not in stretch/stretch not homopolymer', v.CHROM, v.POS, v.REF, v.ALT[0])\n",
    "        #print(genome_seq_left, genome_seq_right, genome_seq_stretch)\n",
    "        passcount += 1\n",
    "    elif len(v.ALT[0]) < len(v.REF):\n",
    "        if vref in valt:\n",
    "            vref = vref.replace(valt, '', 1)\n",
    "            if vref in genome_seq_left_use or genome_seq_right_use:\n",
    "                #print('FAIL right or left', v.CHROM, v.POS, v.REF, v.ALT[0])\n",
    "                #print(genome_seq_left, genome_seq_right, genome_seq_stretch)\n",
    "                failcount += 1 \n",
    "            else: \n",
    "                #print('PASS not in left or right', v.CHROM, v.POS, v.REF, v.ALT[0])\n",
    "                #print(genome_seq_left, genome_seq_right, genome_seq_stretch)\n",
    "                passcount += 1\n",
    "        else:\n",
    "            #print('PASS leftover', v.CHROM, v.POS, v.REF, v.ALT[0])\n",
    "            #print(genome_seq_left, genome_seq_right, genome_seq_stretch)    \n",
    "            passcount += 1\n",
    "    else:\n",
    "        #print('PASS leftover', v.CHROM, v.POS, v.REF, v.ALT[0])\n",
    "        #print(genome_seq_left, genome_seq_right, genome_seq_stretch)\n",
    "        passcount += 1\n",
    "print(v.INFO.get('donor') + \":\", 'Passcount is', passcount, 'and failcount is', failcount) \n",
    "   \n"
   ]
  },
  {
   "cell_type": "code",
   "execution_count": null,
   "metadata": {},
   "outputs": [],
   "source": []
  }
 ],
 "metadata": {
  "interpreter": {
   "hash": "31f2aee4e71d21fbe5cf8b01ff0e069b9275f58929596ceb00d14d90e3e16cd6"
  },
  "kernelspec": {
   "display_name": "Python 3.8.9 64-bit",
   "language": "python",
   "name": "python3"
  },
  "language_info": {
   "codemirror_mode": {
    "name": "ipython",
    "version": 3
   },
   "file_extension": ".py",
   "mimetype": "text/x-python",
   "name": "python",
   "nbconvert_exporter": "python",
   "pygments_lexer": "ipython3",
   "version": "3.9.10"
  },
  "orig_nbformat": 4
 },
 "nbformat": 4,
 "nbformat_minor": 2
}
