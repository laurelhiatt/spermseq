{
 "cells": [
  {
   "cell_type": "code",
   "execution_count": null,
   "metadata": {},
   "outputs": [],
   "source": [
    "from pyfaidx import Fasta\n",
    "import os\n",
    "import pandas as pd"
   ]
  },
  {
   "cell_type": "code",
   "execution_count": null,
   "metadata": {},
   "outputs": [],
   "source": [
    "os.chdir('/Users/quinlan/u1264408/ceph')\n",
    "os.listdir()"
   ]
  },
  {
   "cell_type": "code",
   "execution_count": null,
   "metadata": {},
   "outputs": [],
   "source": [
    "genome = Fasta('/Users/quinlan/u1264408/human_g1k_v37_decoy_phix.fasta', as_raw=True) # look into as_RAW\n",
    "# as_raw: optional parameter to specify whether to return sequences as a Sequence() object or as a raw string."
   ]
  },
  {
   "cell_type": "code",
   "execution_count": null,
   "metadata": {},
   "outputs": [],
   "source": [
    "df2 = pd.read_csv('second_gen.dnms.paternal.txt', sep='\\t')\n",
    "df3 = pd.read_csv('third_gen.dnms.paternal.txt', sep='\\t')"
   ]
  },
  {
   "cell_type": "code",
   "execution_count": null,
   "metadata": {},
   "outputs": [],
   "source": [
    "def gettricontext(df):\n",
    "    for index, row in df.iterrows():\n",
    "        loci = row['end']\n",
    "        chrom = row['chrom']\n",
    "        seq = genome.get_seq(chrom, loci-1,loci+1)\n",
    "        if len(row['ref']) == len(row['alt']):\n",
    "        #print(seq, row['ref'], row['alt'])\n",
    "            pos = 1\n",
    "            altseq = seq[:pos] + row['alt'] + seq[pos+1:]\n",
    "        #print(seq, altseq, row['ref'], row['alt'])\n",
    "            print(seq + \">\" + altseq)\n"
   ]
  },
  {
   "cell_type": "code",
   "execution_count": null,
   "metadata": {},
   "outputs": [],
   "source": [
    "gettricontext(df3)\n",
    "# just saved from VSCODE Text editor to be lazy"
   ]
  },
  {
   "cell_type": "code",
   "execution_count": null,
   "metadata": {},
   "outputs": [],
   "source": [
    "righttri = pd.read_csv('righttri.csv', sep='>', header = None)\n"
   ]
  },
  {
   "cell_type": "code",
   "execution_count": null,
   "metadata": {},
   "outputs": [],
   "source": [
    "righttri"
   ]
  },
  {
   "cell_type": "code",
   "execution_count": null,
   "metadata": {},
   "outputs": [],
   "source": [
    "for index, row in righttri.iterrows():\n",
    "    switch(row[0],row[1])"
   ]
  },
  {
   "cell_type": "code",
   "execution_count": null,
   "metadata": {},
   "outputs": [],
   "source": [
    "def switch(str1,str2):\n",
    "    complement = {'A': 'T', 'C': 'G', 'G': 'C', 'T': 'A'}\n",
    "    reverse_complement1 = \"\".join(complement.get(base, base) for base in reversed(str1))\n",
    "    reverse_complement2 = \"\".join(complement.get(base, base) for base in reversed(str2))\n",
    "    print(reverse_complement1 + \">\" + reverse_complement2)"
   ]
  }
 ],
 "metadata": {
  "interpreter": {
   "hash": "31f2aee4e71d21fbe5cf8b01ff0e069b9275f58929596ceb00d14d90e3e16cd6"
  },
  "kernelspec": {
   "display_name": "Python 3.9.6 64-bit",
   "language": "python",
   "name": "python3"
  },
  "language_info": {
   "codemirror_mode": {
    "name": "ipython",
    "version": 3
   },
   "file_extension": ".py",
   "mimetype": "text/x-python",
   "name": "python",
   "nbconvert_exporter": "python",
   "pygments_lexer": "ipython3",
   "version": "3.9.13"
  },
  "orig_nbformat": 4
 },
 "nbformat": 4,
 "nbformat_minor": 2
}
